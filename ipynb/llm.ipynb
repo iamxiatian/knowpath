{
 "cells": [
  {
   "cell_type": "markdown",
   "metadata": {},
   "source": [
    "# LLM Debug"
   ]
  },
  {
   "cell_type": "code",
   "execution_count": 2,
   "metadata": {},
   "outputs": [
    {
     "name": "stdout",
     "output_type": "stream",
     "text": [
      "current dir: /data/app/xiatian/github\n"
     ]
    }
   ],
   "source": [
    "from knowpath.llm import Chatbot\n",
    "import json\n",
    "import os\n",
    "from pathlib import Path\n",
    "\n",
    "# 获取当前工作目录\n",
    "current_dir = Path(os.getcwd())\n",
    "os.chdir(current_dir.parent)\n",
    "print(\"current dir:\", os.getcwd())\n",
    "\n",
    "# 创建chatbot\n",
    "model_name = \"./Qwen2.5-7B-Instruct\"\n",
    "model_name = \"Llama-3.2-3B-Instruct\"\n",
    "chatbot = Chatbot(\"http://localhost:1119/v1\", model=model_name)\n",
    "response = chatbot.complete(\"hello\")"
   ]
  },
  {
   "cell_type": "code",
   "execution_count": 9,
   "metadata": {},
   "outputs": [
    {
     "name": "stdout",
     "output_type": "stream",
     "text": [
      "这本关于中国隐私和数据保护法的实用指南，基于著名多卷国际百科全书《国际法律百科全书》，涵盖了该主题的所有方面，包括保护个人生活作为基本宪法权利、国际或区域公约保护隐私权、电子通信或工作场所背景下的隐私权以及个人数据处理相关的保护。该指南以国家概述为基础，将其信息和指导分为两部分：\n",
      "\n",
      "（1）隐私保护，包括保护个人生活作为基本宪法权利的国家案例法，关于个人间的保密性通话的具体法律规定，以及各个行业的隐私保护规则，如员工、患者、消费者或明星的隐私权；\n",
      "\n",
      "（2）数据保护，除了一般规则，包括数据质量、合法处理、数据保留、数据主体权利、安全和责任外，还包括有关健康数据或其他敏感个人信息的具体规定，研究目的的进一步处理、执法或国家安全目的的豁免，以及与责任、处罚和赔偿相关的规则。\n"
     ]
    }
   ],
   "source": [
    "system_prompt = \"\"\"你是知路助手，负责对图书内容进行分析和问答。\"\"\"\n",
    "text = \"Derived from the renowned multi-volume International Encyclopaedia of Laws, this practical guide to privacy and data protection law in China covers every aspect of the subject, including the protection of private life as a fundamental constitutional right, the application of international and/or regional conventions protecting the right to privacy, privacy rights in the context of electronic communications or at the workplace, and the protection of individuals regarding the processing of personal data relating to them. Following a general introduction about the country, the monograph assembles its information and guidance in two parts: (1) protection of privacy, including national case law regarding the protection of this fundamental right, specific legislation on the confidentiality of interpersonal communications, and sector-specific rules regarding privacy protection, such as privacy rights of employees, patients, consumers or celebrities; (2) personal data protection, including not only general rules on data quality, legitimate processing, data retention, data subject rights, security and accountability, but also specific provisions regarding the processing of health data or other sensitive personal information, further processing for research purposes, exemptions for law enforcement or national security purposes, and rules regarding liabilities, sanctions and redress.\"\n",
    "\n",
    "user_input = f\"请翻译成中文：{text}\"\n",
    "response = chatbot.chat(\n",
    "    system_prompt, user_input, n_choices=1, max_tokens=1024\n",
    ")\n",
    "response = json.loads(response)\n",
    "content = response[\"choices\"][0][\"message\"][\"content\"]\n",
    "print(content)"
   ]
  },
  {
   "cell_type": "code",
   "execution_count": 12,
   "metadata": {},
   "outputs": [
    {
     "name": "stdout",
     "output_type": "stream",
     "text": [
      "1.隐私（Privacy）- 9.5/10\n",
      "2.数据保护（Data Protection）- 9/10\n",
      "3.个人信息保护（Personal Data Protection）- 8.5/10\n",
      "4.电子通信隐私（Electronic Communications Privacy）- 8/10\n",
      "5.工作场所隐私（Workplace Privacy）- 7.5/10\n",
      "6.电子通信隐私保护（Electronic Communications Privacy Protection）- 8/10\n",
      "7.健康数据保护（Health Data Protection）- 8.5/10\n",
      "8.数据隐私（Data Privacy）- 8/10\n",
      "9.数据安全（Data Security）- 7.5/10\n",
      "10.数据主体权益（Data Subject Rights）- 8.5/10\n",
      "11.数据处理法规（Data Processing Regulations）- 8/10\n",
      "12.数据保密性（Data Confidentiality）- 8/10\n"
     ]
    }
   ],
   "source": [
    "user_input = f\"\"\"请根据以下内容提取十个以上主题词并给予对应的重要程度得分。输出格式为：“序号. 中文主题词（对应的英文主题词） - 十分制得分”，例如：\n",
    "\n",
    "1. 隐私（Privacy）- 9/10\n",
    "2. 数据保护（Data Protection）- 8.5/10\n",
    "\n",
    "输入内容：\n",
    "{text}\"\"\"\n",
    "response = chatbot.chat(\n",
    "    system_prompt, user_input, n_choices=1, max_tokens=1024\n",
    ")\n",
    "response = json.loads(response)\n",
    "content = response[\"choices\"][0][\"message\"][\"content\"]\n",
    "print(content)\n"
   ]
  }
 ],
 "metadata": {
  "kernelspec": {
   "display_name": "knowpath-0Zuin7zc-py3.10",
   "language": "python",
   "name": "python3"
  },
  "language_info": {
   "codemirror_mode": {
    "name": "ipython",
    "version": 3
   },
   "file_extension": ".py",
   "mimetype": "text/x-python",
   "name": "python",
   "nbconvert_exporter": "python",
   "pygments_lexer": "ipython3",
   "version": "3.10.9"
  }
 },
 "nbformat": 4,
 "nbformat_minor": 2
}
