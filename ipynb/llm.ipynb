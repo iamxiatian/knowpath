{
 "cells": [
  {
   "cell_type": "markdown",
   "metadata": {},
   "source": [
    "# LLM Debug"
   ]
  },
  {
   "cell_type": "code",
   "execution_count": 1,
   "metadata": {},
   "outputs": [],
   "source": [
    "from knowpath.llm import Chatbot\n",
    "import json\n",
    "\n",
    "chatbot = Chatbot(\"http://localhost:1119/v1\", model=\"./Qwen2.5-7B-Instruct\")\n",
    "response = chatbot.complete(\"hello\")"
   ]
  },
  {
   "cell_type": "code",
   "execution_count": 8,
   "metadata": {},
   "outputs": [
    {
     "data": {
      "text/plain": [
       "{'id': 'chat-82a1cbe0ea614e40a3d4250cf6ced825',\n",
       " 'object': 'chat.completion',\n",
       " 'created': 1729943006,\n",
       " 'model': './Qwen2.5-7B-Instruct',\n",
       " 'choices': [{'index': 0,\n",
       "   'message': {'role': 'assistant',\n",
       "    'content': '大数据提出的问题比它回答的问题更多，尤其是对于那些难以应对数据洪流的组织而言。它不仅能为营销人员提供简单的战术性预测分析，但组织需要一个更广阔的视角，能够产生真正的人类行为洞察，以驱动消费者策略，而不仅仅是更好的目标定位技术。《人性化大数据》一书指导营销经理、品牌经理、战略家和高级执行官如何战略性地使用大数据，重新定义客户关系，从而提高客户参与度并改善财务业绩。该书详细阐述了如何面对和思考大数据带来的挑战与机遇，使任何品牌都能充分利用其现有和未来的数据资产。\\n\\n首先，书中探讨了数据分析的基本原理以及当前大数据议程可能因忽视分析中经常被视为基本原则的因素而失去可信度的风险。接着，书中提出了智能数据方法的宣言，基于一种全面的数据分析视角，解决企业面临的各种战略业务挑战。最后，书中探讨了数据化如何改变品牌与消费者之间的关系，并解释了为何这需要支持新兴商业模式的新形式的分析方法。阅读完这本书后，任何品牌都应该能够实现从其数据资产中获取更大价值的转变。',\n",
       "    'tool_calls': []},\n",
       "   'logprobs': None,\n",
       "   'finish_reason': 'stop',\n",
       "   'stop_reason': None}],\n",
       " 'usage': {'prompt_tokens': 317,\n",
       "  'total_tokens': 549,\n",
       "  'completion_tokens': 232},\n",
       " 'prompt_logprobs': None}"
      ]
     },
     "execution_count": 8,
     "metadata": {},
     "output_type": "execute_result"
    }
   ],
   "source": [
    "system_prompt = \"\"\"你是知路助手，负责对图书内容进行分析和问答。\n",
    "\"\"\"\n",
    "user_input = \"请翻译成中文：Big data raises more questions than it answers, particularly for those organizations struggling to deal with what has become an overwhelming deluge of data. It can offer marketers more than simple tactical predictive analytics, but organizations need a bigger picture, one that generates some real insight into human behaviour, to drive consumer strategy rather than just better targeting techniques. Humanizing Big Data guides marketing managers, brand managers, strategists and senior executives on how to use big data strategically to redefine customer relationships for better customer engagement and an improved bottom line. Humanizing Big Data provides a detailed understanding of the way to approach and think about the challenges and opportunities of big data, enabling any brand to realize the value of their current and future data assets. First it explores the 'nuts and bolts' of data analytics and the way in which the current big data agenda is in danger of losing credibility by paying insufficient attention to what are often fundamental tenets in any form of analysis. Next it sets out a manifesto for a smart data approach, drawing on an intelligent and big picture view of data analytics that addresses the strategic business challenges that businesses face. Finally it explores the way in which datafication is changing the nature of the relationship between brands and consumers and why this calls for new forms of analytics to support rapidly emerging new business models. After reading this book, any brand should be in a position to make a step change in the value they derive from their data assets.\"\n",
    "response = chatbot.chat(\n",
    "    system_prompt, user_input, n_choices=1, max_tokens=1024\n",
    ")\n",
    "response = json.loads(response)\n",
    "response"
   ]
  }
 ],
 "metadata": {
  "kernelspec": {
   "display_name": "knowpath-0Zuin7zc-py3.10",
   "language": "python",
   "name": "python3"
  },
  "language_info": {
   "codemirror_mode": {
    "name": "ipython",
    "version": 3
   },
   "file_extension": ".py",
   "mimetype": "text/x-python",
   "name": "python",
   "nbconvert_exporter": "python",
   "pygments_lexer": "ipython3",
   "version": "3.10.9"
  }
 },
 "nbformat": 4,
 "nbformat_minor": 2
}
