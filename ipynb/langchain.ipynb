{
 "cells": [
  {
   "cell_type": "code",
   "execution_count": 24,
   "metadata": {},
   "outputs": [
    {
     "name": "stdout",
     "output_type": "stream",
     "text": [
      "<class 'langchain_core.messages.system.SystemMessage'>\n",
      "['langchain', 'schema', 'messages']\n",
      "content='You are a helpful assistant that translates English to French' additional_kwargs={} response_metadata={}\n",
      "<class 'langchain_core.messages.human.HumanMessage'>\n",
      "['langchain', 'schema', 'messages']\n",
      "content=\"what's 5 + 2\" additional_kwargs={} response_metadata={}\n",
      "<class 'langchain_core.messages.ai.AIMessage'>\n",
      "['langchain', 'schema', 'messages']\n",
      "content='5 + 2 is 7' additional_kwargs={} response_metadata={}\n",
      "<class 'langchain_core.messages.human.HumanMessage'>\n",
      "['langchain', 'schema', 'messages']\n",
      "content='I love programming.' additional_kwargs={} response_metadata={}\n"
     ]
    }
   ],
   "source": [
    "from langchain_core.prompts import ChatPromptTemplate, MessagesPlaceholder\n",
    "from langchain_core.prompt_values import ChatPromptValue\n",
    "\n",
    "from langchain_core.messages.base import BaseMessage\n",
    "\n",
    "template:ChatPromptTemplate = ChatPromptTemplate.from_messages([\n",
    "    (\"system\", \"You are a helpful assistant that translates {input_language} to {output_language}\"),\n",
    "    MessagesPlaceholder(\"history\", n_messages=2),\n",
    "    (\"human\", \"{text}\"),\n",
    "])  \n",
    "\n",
    "value:ChatPromptValue = template.format_prompt(\n",
    "    input_language=\"English\",\n",
    "    output_language=\"French\",\n",
    "    history = [(\"human\", \"what's 5 + 2\"), (\"ai\", \"5 + 2 is 7\")],\n",
    "    text=\"I love programming.\",\n",
    ")\n",
    "\n",
    "messages:list[BaseMessage] = value.to_messages()\n",
    "for m in messages:\n",
    "    print(type(m))\n",
    "    print(m.get_lc_namespace())\n",
    "    print(m)\n",
    "    \n"
   ]
  },
  {
   "cell_type": "code",
   "execution_count": 20,
   "metadata": {},
   "outputs": [
    {
     "name": "stdout",
     "output_type": "stream",
     "text": [
      "xiatian\n"
     ]
    }
   ],
   "source": [
    "import getpass\n",
    "\n",
    "password = getpass.getpass(\"hello\")\n",
    "print(password)"
   ]
  }
 ],
 "metadata": {
  "kernelspec": {
   "display_name": "bookbot-NMps99lo-py3.12",
   "language": "python",
   "name": "python3"
  },
  "language_info": {
   "codemirror_mode": {
    "name": "ipython",
    "version": 3
   },
   "file_extension": ".py",
   "mimetype": "text/x-python",
   "name": "python",
   "nbconvert_exporter": "python",
   "pygments_lexer": "ipython3",
   "version": "3.12.5"
  }
 },
 "nbformat": 4,
 "nbformat_minor": 2
}
